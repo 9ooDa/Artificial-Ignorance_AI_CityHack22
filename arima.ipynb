{
 "cells": [
  {
   "cell_type": "code",
   "execution_count": 15,
   "metadata": {},
   "outputs": [],
   "source": [
    "import pandas as pd\n",
    "from matplotlib import pyplot, dates\n",
    "from statsmodels.tsa.arima_model import ARIMA\n",
    "from pandas.plotting import autocorrelation_plot\n",
    "from statsmodels.graphics.tsaplots import plot_acf"
   ]
  },
  {
   "cell_type": "code",
   "execution_count": 2,
   "metadata": {},
   "outputs": [],
   "source": [
    "path_train = './New_train_data.csv'\n",
    "train = pd.read_csv(path_train)"
   ]
  },
  {
   "cell_type": "code",
   "execution_count": 3,
   "metadata": {},
   "outputs": [
    {
     "data": {
      "text/html": [
       "<div>\n",
       "<style scoped>\n",
       "    .dataframe tbody tr th:only-of-type {\n",
       "        vertical-align: middle;\n",
       "    }\n",
       "\n",
       "    .dataframe tbody tr th {\n",
       "        vertical-align: top;\n",
       "    }\n",
       "\n",
       "    .dataframe thead th {\n",
       "        text-align: right;\n",
       "    }\n",
       "</style>\n",
       "<table border=\"1\" class=\"dataframe\">\n",
       "  <thead>\n",
       "    <tr style=\"text-align: right;\">\n",
       "      <th></th>\n",
       "      <th>DateTime</th>\n",
       "      <th>X1</th>\n",
       "      <th>X2</th>\n",
       "      <th>X3</th>\n",
       "      <th>X4</th>\n",
       "      <th>Y</th>\n",
       "    </tr>\n",
       "  </thead>\n",
       "  <tbody>\n",
       "    <tr>\n",
       "      <td>0</td>\n",
       "      <td>2021/12/31 23:00</td>\n",
       "      <td>2.186333</td>\n",
       "      <td>13.76</td>\n",
       "      <td>0.0663</td>\n",
       "      <td>0.1547</td>\n",
       "      <td>5.211638e+05</td>\n",
       "    </tr>\n",
       "    <tr>\n",
       "      <td>1</td>\n",
       "      <td>2022/01/01 0:00</td>\n",
       "      <td>12.087667</td>\n",
       "      <td>84.86</td>\n",
       "      <td>0.4914</td>\n",
       "      <td>0.7410</td>\n",
       "      <td>2.494531e+06</td>\n",
       "    </tr>\n",
       "    <tr>\n",
       "      <td>2</td>\n",
       "      <td>2022/01/01 1:00</td>\n",
       "      <td>10.903667</td>\n",
       "      <td>87.28</td>\n",
       "      <td>0.4719</td>\n",
       "      <td>0.8775</td>\n",
       "      <td>2.117415e+06</td>\n",
       "    </tr>\n",
       "    <tr>\n",
       "      <td>3</td>\n",
       "      <td>2022/01/01 2:00</td>\n",
       "      <td>10.145333</td>\n",
       "      <td>88.58</td>\n",
       "      <td>0.4862</td>\n",
       "      <td>1.0231</td>\n",
       "      <td>1.873545e+06</td>\n",
       "    </tr>\n",
       "    <tr>\n",
       "      <td>4</td>\n",
       "      <td>2022/01/01 3:00</td>\n",
       "      <td>9.870000</td>\n",
       "      <td>86.06</td>\n",
       "      <td>0.4381</td>\n",
       "      <td>1.1336</td>\n",
       "      <td>1.766122e+06</td>\n",
       "    </tr>\n",
       "    <tr>\n",
       "      <td>...</td>\n",
       "      <td>...</td>\n",
       "      <td>...</td>\n",
       "      <td>...</td>\n",
       "      <td>...</td>\n",
       "      <td>...</td>\n",
       "      <td>...</td>\n",
       "    </tr>\n",
       "    <tr>\n",
       "      <td>6985</td>\n",
       "      <td>2022/10/19 0:00</td>\n",
       "      <td>35.403333</td>\n",
       "      <td>105.24</td>\n",
       "      <td>0.6188</td>\n",
       "      <td>0.8281</td>\n",
       "      <td>2.454735e+06</td>\n",
       "    </tr>\n",
       "    <tr>\n",
       "      <td>6986</td>\n",
       "      <td>2022/10/19 1:00</td>\n",
       "      <td>34.956667</td>\n",
       "      <td>105.42</td>\n",
       "      <td>0.4901</td>\n",
       "      <td>0.9243</td>\n",
       "      <td>2.323497e+06</td>\n",
       "    </tr>\n",
       "    <tr>\n",
       "      <td>6987</td>\n",
       "      <td>2022/10/19 2:00</td>\n",
       "      <td>34.866667</td>\n",
       "      <td>105.70</td>\n",
       "      <td>0.6019</td>\n",
       "      <td>0.8957</td>\n",
       "      <td>2.241004e+06</td>\n",
       "    </tr>\n",
       "    <tr>\n",
       "      <td>6988</td>\n",
       "      <td>2022/10/19 3:00</td>\n",
       "      <td>35.326667</td>\n",
       "      <td>105.88</td>\n",
       "      <td>0.6591</td>\n",
       "      <td>0.9802</td>\n",
       "      <td>2.206828e+06</td>\n",
       "    </tr>\n",
       "    <tr>\n",
       "      <td>6989</td>\n",
       "      <td>2022/10/19 4:00</td>\n",
       "      <td>17.580000</td>\n",
       "      <td>53.02</td>\n",
       "      <td>0.2951</td>\n",
       "      <td>0.5057</td>\n",
       "      <td>1.124037e+06</td>\n",
       "    </tr>\n",
       "  </tbody>\n",
       "</table>\n",
       "<p>6990 rows × 6 columns</p>\n",
       "</div>"
      ],
      "text/plain": [
       "              DateTime         X1      X2      X3      X4             Y\n",
       "0     2021/12/31 23:00   2.186333   13.76  0.0663  0.1547  5.211638e+05\n",
       "1      2022/01/01 0:00  12.087667   84.86  0.4914  0.7410  2.494531e+06\n",
       "2      2022/01/01 1:00  10.903667   87.28  0.4719  0.8775  2.117415e+06\n",
       "3      2022/01/01 2:00  10.145333   88.58  0.4862  1.0231  1.873545e+06\n",
       "4      2022/01/01 3:00   9.870000   86.06  0.4381  1.1336  1.766122e+06\n",
       "...                ...        ...     ...     ...     ...           ...\n",
       "6985   2022/10/19 0:00  35.403333  105.24  0.6188  0.8281  2.454735e+06\n",
       "6986   2022/10/19 1:00  34.956667  105.42  0.4901  0.9243  2.323497e+06\n",
       "6987   2022/10/19 2:00  34.866667  105.70  0.6019  0.8957  2.241004e+06\n",
       "6988   2022/10/19 3:00  35.326667  105.88  0.6591  0.9802  2.206828e+06\n",
       "6989   2022/10/19 4:00  17.580000   53.02  0.2951  0.5057  1.124037e+06\n",
       "\n",
       "[6990 rows x 6 columns]"
      ]
     },
     "execution_count": 3,
     "metadata": {},
     "output_type": "execute_result"
    }
   ],
   "source": [
    "train"
   ]
  },
  {
   "cell_type": "markdown",
   "metadata": {},
   "source": [
    "### Data Prepartion"
   ]
  },
  {
   "cell_type": "code",
   "execution_count": 4,
   "metadata": {},
   "outputs": [],
   "source": [
    "# parsing to datetime\n",
    "train['DateTime'] = pd.to_datetime(train['DateTime'])"
   ]
  },
  {
   "cell_type": "code",
   "execution_count": 5,
   "metadata": {},
   "outputs": [
    {
     "data": {
      "text/plain": [
       "DateTime    datetime64[ns]\n",
       "X1                 float64\n",
       "X2                 float64\n",
       "X3                 float64\n",
       "X4                 float64\n",
       "Y                  float64\n",
       "dtype: object"
      ]
     },
     "execution_count": 5,
     "metadata": {},
     "output_type": "execute_result"
    }
   ],
   "source": [
    "train.dtypes"
   ]
  },
  {
   "cell_type": "code",
   "execution_count": 6,
   "metadata": {},
   "outputs": [],
   "source": [
    "train['DateTime'] = train['DateTime'].dt.to_period('s')"
   ]
  },
  {
   "cell_type": "code",
   "execution_count": 7,
   "metadata": {},
   "outputs": [],
   "source": [
    "train.set_index(train['DateTime'],inplace=True)"
   ]
  },
  {
   "cell_type": "code",
   "execution_count": 8,
   "metadata": {},
   "outputs": [],
   "source": [
    "# DateTime changed into the index\n",
    "train_idx = train[['X1', 'X2', 'X3', 'X4', 'Y']]"
   ]
  },
  {
   "cell_type": "code",
   "execution_count": 9,
   "metadata": {},
   "outputs": [],
   "source": [
    "# Extracting only Y\n",
    "train_w_y = train_idx[['Y']]"
   ]
  },
  {
   "cell_type": "markdown",
   "metadata": {},
   "source": [
    "### Autocorrelation plot"
   ]
  },
  {
   "cell_type": "code",
   "execution_count": 13,
   "metadata": {},
   "outputs": [
    {
     "data": {
      "text/plain": [
       "<matplotlib.axes._subplots.AxesSubplot at 0x7fb0fef3df50>"
      ]
     },
     "execution_count": 13,
     "metadata": {},
     "output_type": "execute_result"
    },
    {
     "data": {
      "image/png": "[encoded data removed]",
      "text/plain": [
       "<Figure size 432x288 with 1 Axes>"
      ]
     },
     "metadata": {
      "needs_background": "light"
     },
     "output_type": "display_data"
    }
   ],
   "source": [
    "autocorrelation_plot(train_w_y)"
   ]
  },
  {
   "cell_type": "code",
   "execution_count": 19,
   "metadata": {},
   "outputs": [
    {
     "data": {
      "image/png": "[encoded data removed]",
      "text/plain": [
       "<Figure size 432x288 with 1 Axes>"
      ]
     },
     "execution_count": 19,
     "metadata": {},
     "output_type": "execute_result"
    },
    {
     "data": {
      "image/png": "[encoded data removed]",
      "text/plain": [
       "<Figure size 432x288 with 1 Axes>"
      ]
     },
     "metadata": {
      "needs_background": "light"
     },
     "output_type": "display_data"
    }
   ],
   "source": [
    "plot_acf(train_w_y, lags=100)"
   ]
  },
  {
   "cell_type": "code",
   "execution_count": null,
   "metadata": {},
   "outputs": [],
   "source": []
  }
 ],
 "metadata": {
  "kernelspec": {
   "display_name": "Python 3",
   "language": "python",
   "name": "python3"
  },
  "language_info": {
   "codemirror_mode": {
    "name": "ipython",
    "version": 3
   },
   "file_extension": ".py",
   "mimetype": "text/x-python",
   "name": "python",
   "nbconvert_exporter": "python",
   "pygments_lexer": "ipython3",
   "version": "3.7.4"
  }
 },
 "nbformat": 4,
 "nbformat_minor": 4
}
