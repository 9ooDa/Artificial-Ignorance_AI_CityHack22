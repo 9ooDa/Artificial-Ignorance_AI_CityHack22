{
 "cells": [
  {
   "cell_type": "code",
   "execution_count": 1,
   "metadata": {},
   "outputs": [],
   "source": [
    "from sklearn.datasets import make_regression\n",
    "import pandas as pd\n",
    "import numpy as np\n",
    "from sklearn import preprocessing\n",
    "from sklearn.model_selection import train_test_split\n",
    "from sklearn.metrics import r2_score\n",
    "from sklearn import metrics"
   ]
  },
  {
   "cell_type": "code",
   "execution_count": 2,
   "metadata": {},
   "outputs": [],
   "source": [
    "# Read data\n",
    "df = pd.read_csv('CH22_Demand_XY_Train.csv')"
   ]
  },
  {
   "cell_type": "code",
   "execution_count": 3,
   "metadata": {},
   "outputs": [],
   "source": [
    "# Data preparation\n",
    "dataset = df.values\n",
    "X = dataset[:,1:5]\n",
    "Y = dataset[:,5]\n",
    "X = np.asarray(X).astype('float32')\n",
    "Y = np.asarray(Y).astype('float32')\n",
    "X_train, X_val_and_test, Y_train, Y_val_and_test = train_test_split(X, Y, test_size=0.3)\n",
    "X_val, X_test, Y_val, Y_test = train_test_split(X_val_and_test, Y_val_and_test, test_size=0.5)"
   ]
  },
  {
   "cell_type": "code",
   "execution_count": 4,
   "metadata": {},
   "outputs": [
    {
     "name": "stdout",
     "output_type": "stream",
     "text": [
      "R^2 value: 0.18407092471616227\n",
      "r2_score: 0.18407092476272036\n"
     ]
    }
   ],
   "source": [
    "# Linear Regression\n",
    "from sklearn.linear_model import LinearRegression\n",
    "model = LinearRegression()\n",
    "model.fit(X_train, Y_train)\n",
    "y_sum = 0\n",
    "for ind in range(len(Y_test)):\n",
    "    y_sum += Y_test[ind]\n",
    "y_mean = y_sum / len(Y_test)\n",
    "ssr = 0\n",
    "sst = 0\n",
    "ynew = model.predict(X_test)\n",
    "for i in range(len(X_test)):\n",
    "    ssr += (Y_test[i] - ynew[i])**2\n",
    "    sst += (Y_test[i] - y_mean)**2\n",
    "r2 = 1 - (ssr/sst)\n",
    "print(\"R^2 value:\",r2)\n",
    "print(\"r2_score:\",metrics.r2_score(Y_test, ynew))"
   ]
  },
  {
   "cell_type": "code",
   "execution_count": 5,
   "metadata": {},
   "outputs": [
    {
     "name": "stdout",
     "output_type": "stream",
     "text": [
      "R^2 value: 0.0041926316951083065\n",
      "r2_score: 0.00419263199792741\n"
     ]
    }
   ],
   "source": [
    "#  Support Vector Regression (SVR)\n",
    "from sklearn.svm import SVC\n",
    "from sklearn import svm\n",
    "model = svm.SVR()\n",
    "model.fit(X_train, Y_train)\n",
    "y_sum = 0\n",
    "for ind in range(len(Y_test)):\n",
    "    y_sum += Y_test[ind]\n",
    "y_mean = y_sum / len(Y_test)\n",
    "ssr = 0\n",
    "sst = 0\n",
    "ynew = model.predict(X_test)\n",
    "for i in range(len(X_test)):\n",
    "    ssr += (Y_test[i] - ynew[i])**2\n",
    "    sst += (Y_test[i] - y_mean)**2\n",
    "r2 = 1 - (ssr/sst)\n",
    "print(\"R^2 value:\",r2)\n",
    "print(\"r2_score:\",metrics.r2_score(Y_test, ynew))"
   ]
  },
  {
   "cell_type": "code",
   "execution_count": 6,
   "metadata": {},
   "outputs": [
    {
     "name": "stdout",
     "output_type": "stream",
     "text": [
      "R^2 value: -0.06870150376371198\n",
      "r2_score: -0.06870150343876569\n"
     ]
    }
   ],
   "source": [
    "# K-Nearest Neignbors (KNN)\n",
    "from sklearn.neighbors import KNeighborsClassifier\n",
    "model = KNeighborsClassifier(n_neighbors=1)\n",
    "Y_train = Y_train.astype('int')\n",
    "model.fit(X_train, Y_train)\n",
    "y_sum = 0\n",
    "for ind in range(len(Y_test)):\n",
    "    y_sum += Y_test[ind]\n",
    "y_mean = y_sum / len(Y_test)\n",
    "ssr = 0\n",
    "sst = 0\n",
    "ynew = model.predict(X_test)\n",
    "for i in range(len(X_test)):\n",
    "    ssr += (Y_test[i] - ynew[i])**2\n",
    "    sst += (Y_test[i] - y_mean)**2\n",
    "r2 = 1 - (ssr/sst)\n",
    "print(\"R^2 value:\",r2)\n",
    "print(\"r2_score:\",metrics.r2_score(Y_test, ynew))"
   ]
  },
  {
   "cell_type": "code",
   "execution_count": 7,
   "metadata": {},
   "outputs": [
    {
     "name": "stdout",
     "output_type": "stream",
     "text": [
      "R^2 value: -0.12892644699850986\n",
      "r2_score: -0.12892644665525088\n"
     ]
    }
   ],
   "source": [
    "# Decision Tree Classifier\n",
    "from sklearn.tree import DecisionTreeClassifier\n",
    "model = DecisionTreeClassifier(criterion=\"entropy\", max_depth=100000)\n",
    "Y_train = Y_train.astype('int')\n",
    "model.fit(X_train, Y_train)\n",
    "y_sum = 0\n",
    "for ind in range(len(Y_test)):\n",
    "    y_sum += Y_test[ind]\n",
    "y_mean = y_sum / len(Y_test)\n",
    "ssr = 0\n",
    "sst = 0\n",
    "ynew = model.predict(X_test)\n",
    "for i in range(len(X_test)):\n",
    "    ssr += (Y_test[i] - ynew[i])**2\n",
    "    sst += (Y_test[i] - y_mean)**2\n",
    "r2 = 1 - (ssr/sst)\n",
    "print(\"R^2 value:\",r2)\n",
    "print(\"r2_score:\",metrics.r2_score(Y_test, ynew))"
   ]
  },
  {
   "cell_type": "code",
   "execution_count": 8,
   "metadata": {},
   "outputs": [
    {
     "name": "stdout",
     "output_type": "stream",
     "text": [
      "R^2 value: -0.40418560459619024\n",
      "r2_score: -0.40418560416922467\n"
     ]
    }
   ],
   "source": [
    "# Linear Discriminant Analysis (LDA)\n",
    "from sklearn.discriminant_analysis import LinearDiscriminantAnalysis\n",
    "model = LinearDiscriminantAnalysis()\n",
    "Y_train = Y_train.astype('int')\n",
    "model.fit(X_train, Y_train)\n",
    "y_sum = 0\n",
    "for ind in range(len(Y_test)):\n",
    "    y_sum += Y_test[ind]\n",
    "y_mean = y_sum / len(Y_test)\n",
    "ssr = 0\n",
    "sst = 0\n",
    "ynew = model.predict(X_test)\n",
    "for i in range(len(X_test)):\n",
    "    ssr += (Y_test[i] - ynew[i])**2\n",
    "    sst += (Y_test[i] - y_mean)**2\n",
    "r2 = 1 - (ssr/sst)\n",
    "print(\"R^2 value:\",r2)\n",
    "print(\"r2_score:\",metrics.r2_score(Y_test, ynew))"
   ]
  },
  {
   "cell_type": "code",
   "execution_count": 9,
   "metadata": {},
   "outputs": [
    {
     "name": "stdout",
     "output_type": "stream",
     "text": [
      "R^2 value: -0.21883785329581862\n",
      "r2_score: -0.21883785292521662\n"
     ]
    }
   ],
   "source": [
    "# Gaussian NB\n",
    "from sklearn.naive_bayes import GaussianNB\n",
    "model = GaussianNB()\n",
    "Y_train = Y_train.astype('int')\n",
    "model.fit(X_train, Y_train)\n",
    "y_sum = 0\n",
    "for ind in range(len(Y_test)):\n",
    "    y_sum += Y_test[ind]\n",
    "y_mean = y_sum / len(Y_test)\n",
    "ssr = 0\n",
    "sst = 0\n",
    "ynew = model.predict(X_test)\n",
    "for i in range(len(X_test)):\n",
    "    ssr += (Y_test[i] - ynew[i])**2\n",
    "    sst += (Y_test[i] - y_mean)**2\n",
    "r2 = 1 - (ssr/sst)\n",
    "print(\"R^2 value:\",r2)\n",
    "print(\"r2_score:\",metrics.r2_score(Y_test, ynew))"
   ]
  }
 ],
 "metadata": {
  "kernelspec": {
   "display_name": "Python 3",
   "language": "python",
   "name": "python3"
  },
  "language_info": {
   "codemirror_mode": {
    "name": "ipython",
    "version": 3
   },
   "file_extension": ".py",
   "mimetype": "text/x-python",
   "name": "python",
   "nbconvert_exporter": "python",
   "pygments_lexer": "ipython3",
   "version": "3.8.5"
  }
 },
 "nbformat": 4,
 "nbformat_minor": 4
}
