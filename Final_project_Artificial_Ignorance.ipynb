{
 "cells": [
  {
   "cell_type": "code",
   "execution_count": 1,
   "metadata": {},
   "outputs": [],
   "source": [
    "from datetime import datetime,timedelta\n",
    "import pandas as pd\n",
    "import numpy as np\n",
    "from matplotlib import pyplot as plt\n",
    "from sklearn.metrics import mean_squared_error, r2_score\n",
    "from sklearn.model_selection import train_test_split, RandomizedSearchCV\n",
    "from sklearn.ensemble import RandomForestRegressor as rfr\n",
    "from sklearn.model_selection import cross_val_score"
   ]
  },
  {
   "cell_type": "code",
   "execution_count": 2,
   "metadata": {},
   "outputs": [],
   "source": [
    "path_train = './CH22_Demand_XY_Train.csv'\n",
    "train = pd.read_csv(path_train)"
   ]
  },
  {
   "cell_type": "code",
   "execution_count": 3,
   "metadata": {},
   "outputs": [
    {
     "data": {
      "text/html": [
       "<div>\n",
       "<style scoped>\n",
       "    .dataframe tbody tr th:only-of-type {\n",
       "        vertical-align: middle;\n",
       "    }\n",
       "\n",
       "    .dataframe tbody tr th {\n",
       "        vertical-align: top;\n",
       "    }\n",
       "\n",
       "    .dataframe thead th {\n",
       "        text-align: right;\n",
       "    }\n",
       "</style>\n",
       "<table border=\"1\" class=\"dataframe\">\n",
       "  <thead>\n",
       "    <tr style=\"text-align: right;\">\n",
       "      <th></th>\n",
       "      <th>DateTime</th>\n",
       "      <th>X1</th>\n",
       "      <th>X2</th>\n",
       "      <th>X3</th>\n",
       "      <th>X4</th>\n",
       "      <th>Y</th>\n",
       "    </tr>\n",
       "  </thead>\n",
       "  <tbody>\n",
       "    <tr>\n",
       "      <td>0</td>\n",
       "      <td>2022-01-01 00:00:00</td>\n",
       "      <td>2.186333</td>\n",
       "      <td>13.76</td>\n",
       "      <td>0.0663</td>\n",
       "      <td>0.1547</td>\n",
       "      <td>521163.83540</td>\n",
       "    </tr>\n",
       "    <tr>\n",
       "      <td>1</td>\n",
       "      <td>2022-01-01 00:10:00</td>\n",
       "      <td>2.138000</td>\n",
       "      <td>13.90</td>\n",
       "      <td>0.0910</td>\n",
       "      <td>0.1105</td>\n",
       "      <td>449066.62018</td>\n",
       "    </tr>\n",
       "    <tr>\n",
       "      <td>2</td>\n",
       "      <td>2022-01-01 00:20:00</td>\n",
       "      <td>2.104333</td>\n",
       "      <td>13.90</td>\n",
       "      <td>0.0806</td>\n",
       "      <td>0.1300</td>\n",
       "      <td>437394.72159</td>\n",
       "    </tr>\n",
       "    <tr>\n",
       "      <td>3</td>\n",
       "      <td>2022-01-01 00:30:00</td>\n",
       "      <td>2.040333</td>\n",
       "      <td>14.00</td>\n",
       "      <td>0.1183</td>\n",
       "      <td>0.1248</td>\n",
       "      <td>422107.63292</td>\n",
       "    </tr>\n",
       "    <tr>\n",
       "      <td>4</td>\n",
       "      <td>2022-01-01 00:40:00</td>\n",
       "      <td>1.973667</td>\n",
       "      <td>14.14</td>\n",
       "      <td>0.0624</td>\n",
       "      <td>0.1105</td>\n",
       "      <td>406923.83540</td>\n",
       "    </tr>\n",
       "    <tr>\n",
       "      <td>...</td>\n",
       "      <td>...</td>\n",
       "      <td>...</td>\n",
       "      <td>...</td>\n",
       "      <td>...</td>\n",
       "      <td>...</td>\n",
       "      <td>...</td>\n",
       "    </tr>\n",
       "    <tr>\n",
       "      <td>41927</td>\n",
       "      <td>2022-10-19 03:50:00</td>\n",
       "      <td>5.856667</td>\n",
       "      <td>17.66</td>\n",
       "      <td>0.1092</td>\n",
       "      <td>0.1391</td>\n",
       "      <td>365929.91028</td>\n",
       "    </tr>\n",
       "    <tr>\n",
       "      <td>41928</td>\n",
       "      <td>2022-10-19 04:00:00</td>\n",
       "      <td>5.860000</td>\n",
       "      <td>17.66</td>\n",
       "      <td>0.1183</td>\n",
       "      <td>0.1495</td>\n",
       "      <td>368822.51417</td>\n",
       "    </tr>\n",
       "    <tr>\n",
       "      <td>41929</td>\n",
       "      <td>2022-10-19 04:10:00</td>\n",
       "      <td>5.846667</td>\n",
       "      <td>17.68</td>\n",
       "      <td>0.1001</td>\n",
       "      <td>0.1976</td>\n",
       "      <td>373857.78769</td>\n",
       "    </tr>\n",
       "    <tr>\n",
       "      <td>41930</td>\n",
       "      <td>2022-10-19 04:20:00</td>\n",
       "      <td>5.856667</td>\n",
       "      <td>17.66</td>\n",
       "      <td>0.1183</td>\n",
       "      <td>0.1391</td>\n",
       "      <td>373536.38739</td>\n",
       "    </tr>\n",
       "    <tr>\n",
       "      <td>41931</td>\n",
       "      <td>2022-10-19 04:30:00</td>\n",
       "      <td>5.876667</td>\n",
       "      <td>17.68</td>\n",
       "      <td>0.0767</td>\n",
       "      <td>0.1690</td>\n",
       "      <td>376643.25826</td>\n",
       "    </tr>\n",
       "  </tbody>\n",
       "</table>\n",
       "<p>41932 rows × 6 columns</p>\n",
       "</div>"
      ],
      "text/plain": [
       "                  DateTime        X1     X2      X3      X4             Y\n",
       "0      2022-01-01 00:00:00  2.186333  13.76  0.0663  0.1547  521163.83540\n",
       "1      2022-01-01 00:10:00  2.138000  13.90  0.0910  0.1105  449066.62018\n",
       "2      2022-01-01 00:20:00  2.104333  13.90  0.0806  0.1300  437394.72159\n",
       "3      2022-01-01 00:30:00  2.040333  14.00  0.1183  0.1248  422107.63292\n",
       "4      2022-01-01 00:40:00  1.973667  14.14  0.0624  0.1105  406923.83540\n",
       "...                    ...       ...    ...     ...     ...           ...\n",
       "41927  2022-10-19 03:50:00  5.856667  17.66  0.1092  0.1391  365929.91028\n",
       "41928  2022-10-19 04:00:00  5.860000  17.66  0.1183  0.1495  368822.51417\n",
       "41929  2022-10-19 04:10:00  5.846667  17.68  0.1001  0.1976  373857.78769\n",
       "41930  2022-10-19 04:20:00  5.856667  17.66  0.1183  0.1391  373536.38739\n",
       "41931  2022-10-19 04:30:00  5.876667  17.68  0.0767  0.1690  376643.25826\n",
       "\n",
       "[41932 rows x 6 columns]"
      ]
     },
     "execution_count": 3,
     "metadata": {},
     "output_type": "execute_result"
    }
   ],
   "source": [
    "train"
   ]
  },
  {
   "cell_type": "code",
   "execution_count": 4,
   "metadata": {},
   "outputs": [
    {
     "data": {
      "text/html": [
       "<div>\n",
       "<style scoped>\n",
       "    .dataframe tbody tr th:only-of-type {\n",
       "        vertical-align: middle;\n",
       "    }\n",
       "\n",
       "    .dataframe tbody tr th {\n",
       "        vertical-align: top;\n",
       "    }\n",
       "\n",
       "    .dataframe thead th {\n",
       "        text-align: right;\n",
       "    }\n",
       "</style>\n",
       "<table border=\"1\" class=\"dataframe\">\n",
       "  <thead>\n",
       "    <tr style=\"text-align: right;\">\n",
       "      <th></th>\n",
       "      <th>X1</th>\n",
       "      <th>X2</th>\n",
       "      <th>X3</th>\n",
       "      <th>X4</th>\n",
       "      <th>Y</th>\n",
       "    </tr>\n",
       "  </thead>\n",
       "  <tbody>\n",
       "    <tr>\n",
       "      <td>count</td>\n",
       "      <td>41932.000000</td>\n",
       "      <td>41932.000000</td>\n",
       "      <td>41932.000000</td>\n",
       "      <td>41932.000000</td>\n",
       "      <td>41932.000000</td>\n",
       "    </tr>\n",
       "    <tr>\n",
       "      <td>mean</td>\n",
       "      <td>6.520033</td>\n",
       "      <td>12.528736</td>\n",
       "      <td>261.430021</td>\n",
       "      <td>106.260820</td>\n",
       "      <td>504322.861242</td>\n",
       "    </tr>\n",
       "    <tr>\n",
       "      <td>std</td>\n",
       "      <td>1.982503</td>\n",
       "      <td>3.212579</td>\n",
       "      <td>363.704356</td>\n",
       "      <td>169.071949</td>\n",
       "      <td>121948.222159</td>\n",
       "    </tr>\n",
       "    <tr>\n",
       "      <td>min</td>\n",
       "      <td>1.082333</td>\n",
       "      <td>1.268000</td>\n",
       "      <td>0.005200</td>\n",
       "      <td>0.024700</td>\n",
       "      <td>178443.835400</td>\n",
       "    </tr>\n",
       "    <tr>\n",
       "      <td>25%</td>\n",
       "      <td>4.960000</td>\n",
       "      <td>10.464000</td>\n",
       "      <td>0.085800</td>\n",
       "      <td>0.163800</td>\n",
       "      <td>401060.773570</td>\n",
       "    </tr>\n",
       "    <tr>\n",
       "      <td>50%</td>\n",
       "      <td>6.640000</td>\n",
       "      <td>12.870000</td>\n",
       "      <td>18.219500</td>\n",
       "      <td>15.860000</td>\n",
       "      <td>506391.834490</td>\n",
       "    </tr>\n",
       "    <tr>\n",
       "      <td>75%</td>\n",
       "      <td>7.983333</td>\n",
       "      <td>15.260000</td>\n",
       "      <td>473.590000</td>\n",
       "      <td>146.250000</td>\n",
       "      <td>588871.076658</td>\n",
       "    </tr>\n",
       "    <tr>\n",
       "      <td>max</td>\n",
       "      <td>13.336667</td>\n",
       "      <td>17.760000</td>\n",
       "      <td>1511.900000</td>\n",
       "      <td>1216.800000</td>\n",
       "      <td>829691.717040</td>\n",
       "    </tr>\n",
       "  </tbody>\n",
       "</table>\n",
       "</div>"
      ],
      "text/plain": [
       "                 X1            X2            X3            X4              Y\n",
       "count  41932.000000  41932.000000  41932.000000  41932.000000   41932.000000\n",
       "mean       6.520033     12.528736    261.430021    106.260820  504322.861242\n",
       "std        1.982503      3.212579    363.704356    169.071949  121948.222159\n",
       "min        1.082333      1.268000      0.005200      0.024700  178443.835400\n",
       "25%        4.960000     10.464000      0.085800      0.163800  401060.773570\n",
       "50%        6.640000     12.870000     18.219500     15.860000  506391.834490\n",
       "75%        7.983333     15.260000    473.590000    146.250000  588871.076658\n",
       "max       13.336667     17.760000   1511.900000   1216.800000  829691.717040"
      ]
     },
     "execution_count": 4,
     "metadata": {},
     "output_type": "execute_result"
    }
   ],
   "source": [
    "train.describe()"
   ]
  },
  {
   "cell_type": "markdown",
   "metadata": {},
   "source": [
    "### Data Preparation"
   ]
  },
  {
   "cell_type": "code",
   "execution_count": 5,
   "metadata": {},
   "outputs": [],
   "source": [
    "# parsing to datetime\n",
    "train.DateTime = pd.to_datetime(train.DateTime)"
   ]
  },
  {
   "cell_type": "code",
   "execution_count": 6,
   "metadata": {},
   "outputs": [
    {
     "data": {
      "text/plain": [
       "DateTime    datetime64[ns]\n",
       "X1                 float64\n",
       "X2                 float64\n",
       "X3                 float64\n",
       "X4                 float64\n",
       "Y                  float64\n",
       "dtype: object"
      ]
     },
     "execution_count": 6,
     "metadata": {},
     "output_type": "execute_result"
    }
   ],
   "source": [
    "train.dtypes"
   ]
  },
  {
   "cell_type": "code",
   "execution_count": 7,
   "metadata": {},
   "outputs": [],
   "source": [
    "train.set_index(train['DateTime'],inplace = True)"
   ]
  },
  {
   "cell_type": "code",
   "execution_count": 8,
   "metadata": {},
   "outputs": [],
   "source": [
    "# DateTime changed into the index\n",
    "train_idx = train[['X1', 'X2', 'X3', 'X4', 'Y']]"
   ]
  },
  {
   "cell_type": "markdown",
   "metadata": {},
   "source": [
    "### Splitting Train and Test"
   ]
  },
  {
   "cell_type": "code",
   "execution_count": 9,
   "metadata": {},
   "outputs": [],
   "source": [
    "actual_arr = np.array(train_idx['Y'])\n",
    "train_idx = train_idx.drop('Y', axis=1)\n",
    "train_idx_arr = np.array(train_idx)"
   ]
  },
  {
   "cell_type": "code",
   "execution_count": 10,
   "metadata": {},
   "outputs": [],
   "source": [
    "X_train, X_test, y_train, y_test = train_test_split(train_idx_arr, actual_arr, test_size = 0.25, random_state = 0)"
   ]
  },
  {
   "cell_type": "code",
   "execution_count": 11,
   "metadata": {},
   "outputs": [
    {
     "name": "stdout",
     "output_type": "stream",
     "text": [
      "X_train Shape: (31449, 4)\n",
      "y_train Shape: (31449,)\n",
      "X_test Shape: (10483, 4)\n",
      "y_test Shape: (10483,)\n"
     ]
    }
   ],
   "source": [
    "print('X_train Shape:', X_train.shape)\n",
    "print('y_train Shape:', y_train.shape)\n",
    "print('X_test Shape:', X_test.shape)\n",
    "print('y_test Shape:', y_test.shape)"
   ]
  },
  {
   "cell_type": "markdown",
   "metadata": {},
   "source": [
    "### Random Forest"
   ]
  },
  {
   "cell_type": "code",
   "execution_count": 12,
   "metadata": {},
   "outputs": [
    {
     "data": {
      "text/plain": [
       "RandomForestRegressor(random_state=0)"
      ]
     },
     "execution_count": 12,
     "metadata": {},
     "output_type": "execute_result"
    }
   ],
   "source": [
    "rf = rfr(n_estimators = 100, random_state = 0)\n",
    "rf.fit(X_train, y_train)"
   ]
  },
  {
   "cell_type": "code",
   "execution_count": 13,
   "metadata": {},
   "outputs": [
    {
     "name": "stdout",
     "output_type": "stream",
     "text": [
      "Accuracy(mean): 0.44903477739752684\n",
      "Accuracy(std): 0.008997314078882214\n",
      "Mean Squared Error: 8016916538.706596 degrees.\n",
      "Root Mean Squared Error: 89537.23548729096\n",
      "R-squared: 0.45456268591890747\n"
     ]
    }
   ],
   "source": [
    "rf_pred = rf.predict(X_test)\n",
    "\n",
    "rf_mse = mean_squared_error(y_test, rf_pred)\n",
    "r2 = r2_score(y_test, rf_pred)\n",
    "\n",
    "accuracies_rf = cross_val_score(estimator = rf, X = X_train, y = y_train, cv = 10)\n",
    "print('Accuracy(mean):', accuracies_rf.mean())\n",
    "print('Accuracy(std):', accuracies_rf.std())\n",
    "\n",
    "print('Mean Squared Error:', rf_mse, 'degrees.')\n",
    "print('Root Mean Squared Error:', np.sqrt(rf_mse))\n",
    "print('R-squared:', r2)"
   ]
  },
  {
   "cell_type": "markdown",
   "metadata": {},
   "source": [
    "### Use CV to find the best parameters"
   ]
  },
  {
   "cell_type": "code",
   "execution_count": 14,
   "metadata": {},
   "outputs": [
    {
     "name": "stdout",
     "output_type": "stream",
     "text": [
      "Fitting 3 folds for each of 100 candidates, totalling 300 fits\n"
     ]
    },
    {
     "data": {
      "text/plain": [
       "RandomizedSearchCV(cv=3, estimator=RandomForestRegressor(), n_iter=100,\n",
       "                   n_jobs=-1,\n",
       "                   param_distributions={'bootstrap': [True, False],\n",
       "                                        'max_depth': [10, 20, 30, 40, 50, 60,\n",
       "                                                      70, 80, 90, 100, 110,\n",
       "                                                      120],\n",
       "                                        'max_features': ['auto', 'sqrt'],\n",
       "                                        'min_samples_leaf': [1, 3, 4],\n",
       "                                        'min_samples_split': [2, 6, 10],\n",
       "                                        'n_estimators': [5, 20, 50, 100]},\n",
       "                   random_state=42, verbose=2)"
      ]
     },
     "execution_count": 14,
     "metadata": {},
     "output_type": "execute_result"
    }
   ],
   "source": [
    "rf2 = rfr()\n",
    "\n",
    "n_estimators = [5,20,50,100]\n",
    "max_features = ['auto', 'sqrt']\n",
    "max_depth = [int(x) for x in np.linspace(10, 120, num = 12)]\n",
    "min_samples_split = [2, 6, 10]\n",
    "min_samples_leaf = [1, 3, 4]\n",
    "bootstrap = [True, False]\n",
    "\n",
    "random_grid = {'n_estimators': n_estimators,\n",
    "                'max_features': max_features,\n",
    "                'max_depth': max_depth,\n",
    "                'min_samples_split': min_samples_split,\n",
    "                'min_samples_leaf': min_samples_leaf,\n",
    "                'bootstrap': bootstrap}\n",
    "\n",
    "rf_cv = RandomizedSearchCV(estimator = rf2, param_distributions = random_grid, n_iter = 100, cv = 3, verbose = 2, random_state = 42, n_jobs = -1)\n",
    "\n",
    "rf_cv.fit(X_train, y_train)"
   ]
  },
  {
   "cell_type": "code",
   "execution_count": 15,
   "metadata": {},
   "outputs": [
    {
     "name": "stdout",
     "output_type": "stream",
     "text": [
      "Best Parameters:  {'n_estimators': 100, 'min_samples_split': 6, 'min_samples_leaf': 1, 'max_features': 'auto', 'max_depth': 110, 'bootstrap': True}\n"
     ]
    }
   ],
   "source": [
    "print ('Best Parameters: ', rf_cv.best_params_)"
   ]
  },
  {
   "cell_type": "markdown",
   "metadata": {},
   "source": [
    "### Apply the best param"
   ]
  },
  {
   "cell_type": "code",
   "execution_count": 16,
   "metadata": {},
   "outputs": [
    {
     "data": {
      "text/plain": [
       "RandomForestRegressor(max_depth=110, min_samples_split=6)"
      ]
     },
     "execution_count": 16,
     "metadata": {},
     "output_type": "execute_result"
    }
   ],
   "source": [
    "bp_rf = rfr(n_estimators = 100, min_samples_split = 6, min_samples_leaf = 1, max_features = 'auto', max_depth = 110, bootstrap = True)\n",
    "bp_rf.fit(X_train, y_train)"
   ]
  },
  {
   "cell_type": "code",
   "execution_count": 17,
   "metadata": {},
   "outputs": [
    {
     "name": "stdout",
     "output_type": "stream",
     "text": [
      "Accuracy(mean): 0.4464775032946985\n",
      "Accuracy(std): 0.00968485213352755\n",
      "Mean Squared Error: 7984930318.205277 degrees.\n",
      "Root Mean Squared Error: 89358.43730843371\n",
      "R-squared: 0.45673889395520306\n"
     ]
    }
   ],
   "source": [
    "bp_rf_pred = bp_rf.predict(X_test)\n",
    "\n",
    "bp_rf_mse = mean_squared_error(y_test, bp_rf_pred)\n",
    "bp_r2 = r2_score(y_test, bp_rf_pred)\n",
    "\n",
    "accuracies_bp = cross_val_score(estimator = bp_rf, X = X_train, y = y_train, cv = 10)\n",
    "print('Accuracy(mean):', accuracies_bp.mean())\n",
    "print('Accuracy(std):',accuracies_bp.std())\n",
    "\n",
    "print('Mean Squared Error:', bp_rf_mse, 'degrees.')\n",
    "print('Root Mean Squared Error:', np.sqrt(bp_rf_mse))\n",
    "print('R-squared:', bp_r2)"
   ]
  },
  {
   "cell_type": "markdown",
   "metadata": {},
   "source": [
    "### Find important features"
   ]
  },
  {
   "cell_type": "code",
   "execution_count": 18,
   "metadata": {},
   "outputs": [
    {
     "data": {
      "text/plain": [
       "array([0.4205205 , 0.25944122, 0.17621819, 0.14382009])"
      ]
     },
     "execution_count": 18,
     "metadata": {},
     "output_type": "execute_result"
    }
   ],
   "source": [
    "rf.feature_importances_"
   ]
  },
  {
   "cell_type": "code",
   "execution_count": 19,
   "metadata": {},
   "outputs": [
    {
     "data": {
      "text/plain": [
       "<BarContainer object of 4 artists>"
      ]
     },
     "execution_count": 19,
     "metadata": {},
     "output_type": "execute_result"
    },
    {
     "data": {
      "image/png": "[encoded data removed]",
      "text/plain": [
       "<Figure size 432x288 with 1 Axes>"
      ]
     },
     "metadata": {
      "needs_background": "light"
     },
     "output_type": "display_data"
    }
   ],
   "source": [
    "order = rf.feature_importances_.argsort()\n",
    "plt.barh(train_idx.columns[order], rf.feature_importances_[order])"
   ]
  },
  {
   "cell_type": "markdown",
   "metadata": {},
   "source": [
    "### Only with the two most important inputs"
   ]
  },
  {
   "cell_type": "code",
   "execution_count": 20,
   "metadata": {},
   "outputs": [],
   "source": [
    "Xs = list(train_idx.columns)\n",
    "\n",
    "rf_impt = rfr(n_estimators = 100, min_samples_split = 6, min_samples_leaf = 1, max_features = 'auto', max_depth = 110, bootstrap = True)\n",
    "impt = [Xs.index('X1'), Xs.index('X2')]\n",
    "train_important = X_train[:, impt]\n",
    "test_important = X_test[:, impt]"
   ]
  },
  {
   "cell_type": "code",
   "execution_count": 21,
   "metadata": {},
   "outputs": [
    {
     "data": {
      "text/plain": [
       "RandomForestRegressor(max_depth=110, min_samples_split=6)"
      ]
     },
     "execution_count": 21,
     "metadata": {},
     "output_type": "execute_result"
    }
   ],
   "source": [
    "rf_impt.fit(train_important, y_train)"
   ]
  },
  {
   "cell_type": "code",
   "execution_count": 22,
   "metadata": {},
   "outputs": [
    {
     "name": "stdout",
     "output_type": "stream",
     "text": [
      "Accuracy(mean): 0.44914470771882875\n",
      "Accuracy(std): 0.010541782807592364\n",
      "Mean Squared Error: 11234233933.950325 degrees.\n",
      "Root Mean Squared Error: 105991.66917239451\n",
      "R-squared: 0.23566992956607247\n"
     ]
    }
   ],
   "source": [
    "pred_impt = rf_impt.predict(test_important)\n",
    "\n",
    "rf_mse = mean_squared_error(y_test, pred_impt)\n",
    "r2 = r2_score(y_test, pred_impt)\n",
    "\n",
    "accuracies_impt = cross_val_score(estimator = rf_impt, X = X_train, y = y_train, cv = 10)\n",
    "print('Accuracy(mean):', accuracies_impt.mean())\n",
    "print('Accuracy(std):', accuracies_impt.std())\n",
    "\n",
    "print('Mean Squared Error:', rf_mse, 'degrees.')\n",
    "print('Root Mean Squared Error:', np.sqrt(rf_mse))\n",
    "print('R-squared:', r2)"
   ]
  },
  {
   "cell_type": "markdown",
   "metadata": {},
   "source": [
    "# Apply to test dataset"
   ]
  },
  {
   "cell_type": "code",
   "execution_count": 23,
   "metadata": {},
   "outputs": [],
   "source": [
    "path_test = './CH22_Demand_raw_X_Test.csv'\n",
    "test = pd.read_csv(path_test)"
   ]
  },
  {
   "cell_type": "code",
   "execution_count": 24,
   "metadata": {},
   "outputs": [
    {
     "data": {
      "text/html": [
       "<div>\n",
       "<style scoped>\n",
       "    .dataframe tbody tr th:only-of-type {\n",
       "        vertical-align: middle;\n",
       "    }\n",
       "\n",
       "    .dataframe tbody tr th {\n",
       "        vertical-align: top;\n",
       "    }\n",
       "\n",
       "    .dataframe thead th {\n",
       "        text-align: right;\n",
       "    }\n",
       "</style>\n",
       "<table border=\"1\" class=\"dataframe\">\n",
       "  <thead>\n",
       "    <tr style=\"text-align: right;\">\n",
       "      <th></th>\n",
       "      <th>DateTime</th>\n",
       "      <th>X1</th>\n",
       "      <th>X2</th>\n",
       "      <th>X3</th>\n",
       "      <th>X4</th>\n",
       "    </tr>\n",
       "  </thead>\n",
       "  <tbody>\n",
       "    <tr>\n",
       "      <td>0</td>\n",
       "      <td>2022-10-19 04:40:00</td>\n",
       "      <td>5.943333</td>\n",
       "      <td>17.72</td>\n",
       "      <td>0.1001</td>\n",
       "      <td>0.1690</td>\n",
       "    </tr>\n",
       "    <tr>\n",
       "      <td>1</td>\n",
       "      <td>2022-10-19 04:50:00</td>\n",
       "      <td>5.990000</td>\n",
       "      <td>17.68</td>\n",
       "      <td>0.1092</td>\n",
       "      <td>0.1872</td>\n",
       "    </tr>\n",
       "    <tr>\n",
       "      <td>2</td>\n",
       "      <td>2022-10-19 05:00:00</td>\n",
       "      <td>5.993333</td>\n",
       "      <td>17.66</td>\n",
       "      <td>0.1235</td>\n",
       "      <td>0.1014</td>\n",
       "    </tr>\n",
       "    <tr>\n",
       "      <td>3</td>\n",
       "      <td>2022-10-19 05:10:00</td>\n",
       "      <td>6.000000</td>\n",
       "      <td>17.68</td>\n",
       "      <td>0.0949</td>\n",
       "      <td>0.1690</td>\n",
       "    </tr>\n",
       "    <tr>\n",
       "      <td>4</td>\n",
       "      <td>2022-10-19 05:20:00</td>\n",
       "      <td>6.013333</td>\n",
       "      <td>17.68</td>\n",
       "      <td>0.1326</td>\n",
       "      <td>0.1300</td>\n",
       "    </tr>\n",
       "    <tr>\n",
       "      <td>...</td>\n",
       "      <td>...</td>\n",
       "      <td>...</td>\n",
       "      <td>...</td>\n",
       "      <td>...</td>\n",
       "      <td>...</td>\n",
       "    </tr>\n",
       "    <tr>\n",
       "      <td>10479</td>\n",
       "      <td>2022-12-30 23:10:00</td>\n",
       "      <td>2.336667</td>\n",
       "      <td>13.48</td>\n",
       "      <td>0.0520</td>\n",
       "      <td>0.1248</td>\n",
       "    </tr>\n",
       "    <tr>\n",
       "      <td>10480</td>\n",
       "      <td>2022-12-30 23:20:00</td>\n",
       "      <td>2.315667</td>\n",
       "      <td>13.52</td>\n",
       "      <td>0.0663</td>\n",
       "      <td>0.1209</td>\n",
       "    </tr>\n",
       "    <tr>\n",
       "      <td>10481</td>\n",
       "      <td>2022-12-30 23:30:00</td>\n",
       "      <td>2.300000</td>\n",
       "      <td>13.56</td>\n",
       "      <td>0.1092</td>\n",
       "      <td>0.0962</td>\n",
       "    </tr>\n",
       "    <tr>\n",
       "      <td>10482</td>\n",
       "      <td>2022-12-30 23:40:00</td>\n",
       "      <td>2.252667</td>\n",
       "      <td>13.60</td>\n",
       "      <td>0.0858</td>\n",
       "      <td>0.1157</td>\n",
       "    </tr>\n",
       "    <tr>\n",
       "      <td>10483</td>\n",
       "      <td>2022-12-30 23:50:00</td>\n",
       "      <td>2.193333</td>\n",
       "      <td>13.82</td>\n",
       "      <td>0.0806</td>\n",
       "      <td>0.1443</td>\n",
       "    </tr>\n",
       "  </tbody>\n",
       "</table>\n",
       "<p>10484 rows × 5 columns</p>\n",
       "</div>"
      ],
      "text/plain": [
       "                  DateTime        X1     X2      X3      X4\n",
       "0      2022-10-19 04:40:00  5.943333  17.72  0.1001  0.1690\n",
       "1      2022-10-19 04:50:00  5.990000  17.68  0.1092  0.1872\n",
       "2      2022-10-19 05:00:00  5.993333  17.66  0.1235  0.1014\n",
       "3      2022-10-19 05:10:00  6.000000  17.68  0.0949  0.1690\n",
       "4      2022-10-19 05:20:00  6.013333  17.68  0.1326  0.1300\n",
       "...                    ...       ...    ...     ...     ...\n",
       "10479  2022-12-30 23:10:00  2.336667  13.48  0.0520  0.1248\n",
       "10480  2022-12-30 23:20:00  2.315667  13.52  0.0663  0.1209\n",
       "10481  2022-12-30 23:30:00  2.300000  13.56  0.1092  0.0962\n",
       "10482  2022-12-30 23:40:00  2.252667  13.60  0.0858  0.1157\n",
       "10483  2022-12-30 23:50:00  2.193333  13.82  0.0806  0.1443\n",
       "\n",
       "[10484 rows x 5 columns]"
      ]
     },
     "execution_count": 24,
     "metadata": {},
     "output_type": "execute_result"
    }
   ],
   "source": [
    "test"
   ]
  },
  {
   "cell_type": "code",
   "execution_count": 25,
   "metadata": {},
   "outputs": [
    {
     "data": {
      "text/html": [
       "<div>\n",
       "<style scoped>\n",
       "    .dataframe tbody tr th:only-of-type {\n",
       "        vertical-align: middle;\n",
       "    }\n",
       "\n",
       "    .dataframe tbody tr th {\n",
       "        vertical-align: top;\n",
       "    }\n",
       "\n",
       "    .dataframe thead th {\n",
       "        text-align: right;\n",
       "    }\n",
       "</style>\n",
       "<table border=\"1\" class=\"dataframe\">\n",
       "  <thead>\n",
       "    <tr style=\"text-align: right;\">\n",
       "      <th></th>\n",
       "      <th>X1</th>\n",
       "      <th>X2</th>\n",
       "      <th>X3</th>\n",
       "      <th>X4</th>\n",
       "    </tr>\n",
       "  </thead>\n",
       "  <tbody>\n",
       "    <tr>\n",
       "      <td>count</td>\n",
       "      <td>10484.000000</td>\n",
       "      <td>10484.000000</td>\n",
       "      <td>10484.000000</td>\n",
       "      <td>10484.000000</td>\n",
       "    </tr>\n",
       "    <tr>\n",
       "      <td>mean</td>\n",
       "      <td>5.270002</td>\n",
       "      <td>13.144527</td>\n",
       "      <td>141.817033</td>\n",
       "      <td>62.642190</td>\n",
       "    </tr>\n",
       "    <tr>\n",
       "      <td>std</td>\n",
       "      <td>1.348219</td>\n",
       "      <td>2.604375</td>\n",
       "      <td>223.973160</td>\n",
       "      <td>120.452849</td>\n",
       "    </tr>\n",
       "    <tr>\n",
       "      <td>min</td>\n",
       "      <td>1.513333</td>\n",
       "      <td>4.206000</td>\n",
       "      <td>0.009100</td>\n",
       "      <td>0.014300</td>\n",
       "    </tr>\n",
       "    <tr>\n",
       "      <td>25%</td>\n",
       "      <td>4.389167</td>\n",
       "      <td>11.412000</td>\n",
       "      <td>0.071500</td>\n",
       "      <td>0.149500</td>\n",
       "    </tr>\n",
       "    <tr>\n",
       "      <td>50%</td>\n",
       "      <td>5.376667</td>\n",
       "      <td>13.340000</td>\n",
       "      <td>0.109200</td>\n",
       "      <td>0.211900</td>\n",
       "    </tr>\n",
       "    <tr>\n",
       "      <td>75%</td>\n",
       "      <td>6.386667</td>\n",
       "      <td>15.340000</td>\n",
       "      <td>235.592500</td>\n",
       "      <td>80.125500</td>\n",
       "    </tr>\n",
       "    <tr>\n",
       "      <td>max</td>\n",
       "      <td>8.853333</td>\n",
       "      <td>17.960000</td>\n",
       "      <td>1093.300000</td>\n",
       "      <td>1084.200000</td>\n",
       "    </tr>\n",
       "  </tbody>\n",
       "</table>\n",
       "</div>"
      ],
      "text/plain": [
       "                 X1            X2            X3            X4\n",
       "count  10484.000000  10484.000000  10484.000000  10484.000000\n",
       "mean       5.270002     13.144527    141.817033     62.642190\n",
       "std        1.348219      2.604375    223.973160    120.452849\n",
       "min        1.513333      4.206000      0.009100      0.014300\n",
       "25%        4.389167     11.412000      0.071500      0.149500\n",
       "50%        5.376667     13.340000      0.109200      0.211900\n",
       "75%        6.386667     15.340000    235.592500     80.125500\n",
       "max        8.853333     17.960000   1093.300000   1084.200000"
      ]
     },
     "execution_count": 25,
     "metadata": {},
     "output_type": "execute_result"
    }
   ],
   "source": [
    "test.describe()"
   ]
  },
  {
   "cell_type": "markdown",
   "metadata": {},
   "source": [
    "### Data Prepartion"
   ]
  },
  {
   "cell_type": "code",
   "execution_count": 26,
   "metadata": {},
   "outputs": [],
   "source": [
    "# parsing to datetime\n",
    "test.DateTime = pd.to_datetime(test.DateTime)"
   ]
  },
  {
   "cell_type": "code",
   "execution_count": 27,
   "metadata": {},
   "outputs": [
    {
     "data": {
      "text/plain": [
       "DateTime    datetime64[ns]\n",
       "X1                 float64\n",
       "X2                 float64\n",
       "X3                 float64\n",
       "X4                 float64\n",
       "dtype: object"
      ]
     },
     "execution_count": 27,
     "metadata": {},
     "output_type": "execute_result"
    }
   ],
   "source": [
    "test.dtypes"
   ]
  },
  {
   "cell_type": "code",
   "execution_count": 28,
   "metadata": {},
   "outputs": [],
   "source": [
    "test = test.set_index(test['DateTime']).resample('60min').sum()"
   ]
  },
  {
   "cell_type": "code",
   "execution_count": 29,
   "metadata": {},
   "outputs": [],
   "source": [
    "# DateTime changed into the index\n",
    "test_idx = test[['X1', 'X2', 'X3', 'X4']]"
   ]
  },
  {
   "cell_type": "code",
   "execution_count": 30,
   "metadata": {},
   "outputs": [],
   "source": [
    "test_idx['yhat'] = 0"
   ]
  },
  {
   "cell_type": "code",
   "execution_count": 31,
   "metadata": {},
   "outputs": [],
   "source": [
    "final = test_idx"
   ]
  },
  {
   "cell_type": "markdown",
   "metadata": {},
   "source": [
    "### Updating Test"
   ]
  },
  {
   "cell_type": "code",
   "execution_count": 32,
   "metadata": {},
   "outputs": [],
   "source": [
    "test_arr = np.array(test_idx['yhat'])\n",
    "test_idx = test_idx.drop('yhat', axis=1)\n",
    "test_idx_arr = np.array(test_idx)"
   ]
  },
  {
   "cell_type": "code",
   "execution_count": 33,
   "metadata": {},
   "outputs": [],
   "source": [
    "X_test, y_test = test_idx_arr, test_arr"
   ]
  },
  {
   "cell_type": "code",
   "execution_count": 34,
   "metadata": {},
   "outputs": [
    {
     "name": "stdout",
     "output_type": "stream",
     "text": [
      "X_test Shape: (1748, 4)\n",
      "y_test Shape: (1748,)\n"
     ]
    }
   ],
   "source": [
    "print('X_test Shape:', X_test.shape)\n",
    "print('y_test Shape:', y_test.shape)"
   ]
  },
  {
   "cell_type": "markdown",
   "metadata": {},
   "source": [
    "### Random Forest"
   ]
  },
  {
   "cell_type": "markdown",
   "metadata": {},
   "source": [
    "### Apply the best param"
   ]
  },
  {
   "cell_type": "code",
   "execution_count": 35,
   "metadata": {},
   "outputs": [
    {
     "data": {
      "text/html": [
       "<div>\n",
       "<style scoped>\n",
       "    .dataframe tbody tr th:only-of-type {\n",
       "        vertical-align: middle;\n",
       "    }\n",
       "\n",
       "    .dataframe tbody tr th {\n",
       "        vertical-align: top;\n",
       "    }\n",
       "\n",
       "    .dataframe thead th {\n",
       "        text-align: right;\n",
       "    }\n",
       "</style>\n",
       "<table border=\"1\" class=\"dataframe\">\n",
       "  <thead>\n",
       "    <tr style=\"text-align: right;\">\n",
       "      <th></th>\n",
       "      <th>X1</th>\n",
       "      <th>X2</th>\n",
       "      <th>X3</th>\n",
       "      <th>X4</th>\n",
       "      <th>yhat</th>\n",
       "    </tr>\n",
       "    <tr>\n",
       "      <th>DateTime</th>\n",
       "      <th></th>\n",
       "      <th></th>\n",
       "      <th></th>\n",
       "      <th></th>\n",
       "      <th></th>\n",
       "    </tr>\n",
       "  </thead>\n",
       "  <tbody>\n",
       "    <tr>\n",
       "      <td>2022-10-19 04:00:00</td>\n",
       "      <td>11.933333</td>\n",
       "      <td>35.400</td>\n",
       "      <td>0.2093</td>\n",
       "      <td>0.3562</td>\n",
       "      <td>652114.896480</td>\n",
       "    </tr>\n",
       "    <tr>\n",
       "      <td>2022-10-19 05:00:00</td>\n",
       "      <td>36.346667</td>\n",
       "      <td>106.120</td>\n",
       "      <td>0.6604</td>\n",
       "      <td>0.8827</td>\n",
       "      <td>655383.092589</td>\n",
       "    </tr>\n",
       "    <tr>\n",
       "      <td>2022-10-19 06:00:00</td>\n",
       "      <td>36.466667</td>\n",
       "      <td>105.780</td>\n",
       "      <td>0.6058</td>\n",
       "      <td>0.9490</td>\n",
       "      <td>655383.092589</td>\n",
       "    </tr>\n",
       "    <tr>\n",
       "      <td>2022-10-19 07:00:00</td>\n",
       "      <td>36.156667</td>\n",
       "      <td>104.900</td>\n",
       "      <td>112.0431</td>\n",
       "      <td>94.4281</td>\n",
       "      <td>611250.285966</td>\n",
       "    </tr>\n",
       "    <tr>\n",
       "      <td>2022-10-19 08:00:00</td>\n",
       "      <td>36.786667</td>\n",
       "      <td>102.920</td>\n",
       "      <td>254.0720</td>\n",
       "      <td>216.0730</td>\n",
       "      <td>620008.681467</td>\n",
       "    </tr>\n",
       "    <tr>\n",
       "      <td>...</td>\n",
       "      <td>...</td>\n",
       "      <td>...</td>\n",
       "      <td>...</td>\n",
       "      <td>...</td>\n",
       "      <td>...</td>\n",
       "    </tr>\n",
       "    <tr>\n",
       "      <td>2022-12-30 19:00:00</td>\n",
       "      <td>18.906667</td>\n",
       "      <td>68.888</td>\n",
       "      <td>0.4056</td>\n",
       "      <td>0.7956</td>\n",
       "      <td>655825.101791</td>\n",
       "    </tr>\n",
       "    <tr>\n",
       "      <td>2022-12-30 20:00:00</td>\n",
       "      <td>18.083333</td>\n",
       "      <td>70.788</td>\n",
       "      <td>0.4108</td>\n",
       "      <td>0.8190</td>\n",
       "      <td>655383.092589</td>\n",
       "    </tr>\n",
       "    <tr>\n",
       "      <td>2022-12-30 21:00:00</td>\n",
       "      <td>16.023333</td>\n",
       "      <td>77.610</td>\n",
       "      <td>0.5707</td>\n",
       "      <td>0.7670</td>\n",
       "      <td>655825.101791</td>\n",
       "    </tr>\n",
       "    <tr>\n",
       "      <td>2022-12-30 22:00:00</td>\n",
       "      <td>15.196667</td>\n",
       "      <td>78.378</td>\n",
       "      <td>0.4576</td>\n",
       "      <td>0.8437</td>\n",
       "      <td>655383.092589</td>\n",
       "    </tr>\n",
       "    <tr>\n",
       "      <td>2022-12-30 23:00:00</td>\n",
       "      <td>13.755000</td>\n",
       "      <td>81.480</td>\n",
       "      <td>0.4706</td>\n",
       "      <td>0.7228</td>\n",
       "      <td>655825.101791</td>\n",
       "    </tr>\n",
       "  </tbody>\n",
       "</table>\n",
       "<p>1748 rows × 5 columns</p>\n",
       "</div>"
      ],
      "text/plain": [
       "                            X1       X2        X3        X4           yhat\n",
       "DateTime                                                                  \n",
       "2022-10-19 04:00:00  11.933333   35.400    0.2093    0.3562  652114.896480\n",
       "2022-10-19 05:00:00  36.346667  106.120    0.6604    0.8827  655383.092589\n",
       "2022-10-19 06:00:00  36.466667  105.780    0.6058    0.9490  655383.092589\n",
       "2022-10-19 07:00:00  36.156667  104.900  112.0431   94.4281  611250.285966\n",
       "2022-10-19 08:00:00  36.786667  102.920  254.0720  216.0730  620008.681467\n",
       "...                        ...      ...       ...       ...            ...\n",
       "2022-12-30 19:00:00  18.906667   68.888    0.4056    0.7956  655825.101791\n",
       "2022-12-30 20:00:00  18.083333   70.788    0.4108    0.8190  655383.092589\n",
       "2022-12-30 21:00:00  16.023333   77.610    0.5707    0.7670  655825.101791\n",
       "2022-12-30 22:00:00  15.196667   78.378    0.4576    0.8437  655383.092589\n",
       "2022-12-30 23:00:00  13.755000   81.480    0.4706    0.7228  655825.101791\n",
       "\n",
       "[1748 rows x 5 columns]"
      ]
     },
     "execution_count": 35,
     "metadata": {},
     "output_type": "execute_result"
    }
   ],
   "source": [
    "bp_rf_pred = bp_rf.predict(X_test)\n",
    "final['yhat'] = bp_rf_pred\n",
    "final"
   ]
  },
  {
   "cell_type": "code",
   "execution_count": 41,
   "metadata": {},
   "outputs": [
    {
     "data": {
      "text/plain": [
       "<matplotlib.axes._subplots.AxesSubplot at 0x7fa0c118e490>"
      ]
     },
     "execution_count": 41,
     "metadata": {},
     "output_type": "execute_result"
    },
    {
     "data": {
      "image/png": "[encoded data removed]",
      "text/plain": [
       "<Figure size 432x288 with 1 Axes>"
      ]
     },
     "metadata": {
      "needs_background": "light"
     },
     "output_type": "display_data"
    }
   ],
   "source": [
    "final['yhat'].plot()"
   ]
  },
  {
   "cell_type": "code",
   "execution_count": 37,
   "metadata": {},
   "outputs": [
    {
     "data": {
      "text/html": [
       "<div>\n",
       "<style scoped>\n",
       "    .dataframe tbody tr th:only-of-type {\n",
       "        vertical-align: middle;\n",
       "    }\n",
       "\n",
       "    .dataframe tbody tr th {\n",
       "        vertical-align: top;\n",
       "    }\n",
       "\n",
       "    .dataframe thead th {\n",
       "        text-align: right;\n",
       "    }\n",
       "</style>\n",
       "<table border=\"1\" class=\"dataframe\">\n",
       "  <thead>\n",
       "    <tr style=\"text-align: right;\">\n",
       "      <th></th>\n",
       "      <th>X1</th>\n",
       "      <th>X2</th>\n",
       "      <th>X3</th>\n",
       "      <th>X4</th>\n",
       "      <th>yhat</th>\n",
       "    </tr>\n",
       "  </thead>\n",
       "  <tbody>\n",
       "    <tr>\n",
       "      <td>count</td>\n",
       "      <td>1748.000000</td>\n",
       "      <td>1748.000000</td>\n",
       "      <td>1748.000000</td>\n",
       "      <td>1748.000000</td>\n",
       "      <td>1748.000000</td>\n",
       "    </tr>\n",
       "    <tr>\n",
       "      <td>mean</td>\n",
       "      <td>31.607951</td>\n",
       "      <td>78.837084</td>\n",
       "      <td>850.577673</td>\n",
       "      <td>375.709795</td>\n",
       "      <td>642547.796374</td>\n",
       "    </tr>\n",
       "    <tr>\n",
       "      <td>std</td>\n",
       "      <td>8.078670</td>\n",
       "      <td>15.556322</td>\n",
       "      <td>1312.489757</td>\n",
       "      <td>700.372350</td>\n",
       "      <td>17411.229498</td>\n",
       "    </tr>\n",
       "    <tr>\n",
       "      <td>min</td>\n",
       "      <td>9.321667</td>\n",
       "      <td>26.480000</td>\n",
       "      <td>0.209300</td>\n",
       "      <td>0.312000</td>\n",
       "      <td>559710.431454</td>\n",
       "    </tr>\n",
       "    <tr>\n",
       "      <td>25%</td>\n",
       "      <td>26.406667</td>\n",
       "      <td>68.887500</td>\n",
       "      <td>0.432900</td>\n",
       "      <td>0.925275</td>\n",
       "      <td>630803.737442</td>\n",
       "    </tr>\n",
       "    <tr>\n",
       "      <td>50%</td>\n",
       "      <td>32.306667</td>\n",
       "      <td>80.019000</td>\n",
       "      <td>0.652600</td>\n",
       "      <td>1.248000</td>\n",
       "      <td>655383.092589</td>\n",
       "    </tr>\n",
       "    <tr>\n",
       "      <td>75%</td>\n",
       "      <td>38.211667</td>\n",
       "      <td>91.855000</td>\n",
       "      <td>1503.872500</td>\n",
       "      <td>523.149250</td>\n",
       "      <td>655385.266173</td>\n",
       "    </tr>\n",
       "    <tr>\n",
       "      <td>max</td>\n",
       "      <td>52.596667</td>\n",
       "      <td>107.700000</td>\n",
       "      <td>6071.000000</td>\n",
       "      <td>5814.120000</td>\n",
       "      <td>662101.436086</td>\n",
       "    </tr>\n",
       "  </tbody>\n",
       "</table>\n",
       "</div>"
      ],
      "text/plain": [
       "                X1           X2           X3           X4           yhat\n",
       "count  1748.000000  1748.000000  1748.000000  1748.000000    1748.000000\n",
       "mean     31.607951    78.837084   850.577673   375.709795  642547.796374\n",
       "std       8.078670    15.556322  1312.489757   700.372350   17411.229498\n",
       "min       9.321667    26.480000     0.209300     0.312000  559710.431454\n",
       "25%      26.406667    68.887500     0.432900     0.925275  630803.737442\n",
       "50%      32.306667    80.019000     0.652600     1.248000  655383.092589\n",
       "75%      38.211667    91.855000  1503.872500   523.149250  655385.266173\n",
       "max      52.596667   107.700000  6071.000000  5814.120000  662101.436086"
      ]
     },
     "execution_count": 37,
     "metadata": {},
     "output_type": "execute_result"
    }
   ],
   "source": [
    "final.describe()"
   ]
  },
  {
   "cell_type": "code",
   "execution_count": 38,
   "metadata": {},
   "outputs": [],
   "source": [
    "final.to_csv('CH22_Demand_Prediction_Test_sum.csv')"
   ]
  }
 ],
 "metadata": {
  "kernelspec": {
   "display_name": "Python 3",
   "language": "python",
   "name": "python3"
  },
  "language_info": {
   "codemirror_mode": {
    "name": "ipython",
    "version": 3
   },
   "file_extension": ".py",
   "mimetype": "text/x-python",
   "name": "python",
   "nbconvert_exporter": "python",
   "pygments_lexer": "ipython3",
   "version": "3.7.4"
  }
 },
 "nbformat": 4,
 "nbformat_minor": 4
}
