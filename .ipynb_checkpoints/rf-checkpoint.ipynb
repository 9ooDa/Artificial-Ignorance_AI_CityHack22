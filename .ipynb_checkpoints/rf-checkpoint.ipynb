{
 "cells": [
  {
   "cell_type": "code",
   "execution_count": 51,
   "metadata": {},
   "outputs": [],
   "source": [
    "import pandas as pd\n",
    "import numpy as np\n",
    "from matplotlib import pyplot as plt\n",
    "from sklearn.metrics import mean_squared_error, r2_score\n",
    "from sklearn.model_selection import train_test_split\n",
    "from sklearn.ensemble import RandomForestRegressor as rfr"
   ]
  },
  {
   "cell_type": "code",
   "execution_count": 17,
   "metadata": {},
   "outputs": [],
   "source": [
    "path_train = './New_train_data.csv'\n",
    "train = pd.read_csv(path_train)"
   ]
  },
  {
   "cell_type": "code",
   "execution_count": 18,
   "metadata": {},
   "outputs": [
    {
     "data": {
      "text/html": [
       "<div>\n",
       "<style scoped>\n",
       "    .dataframe tbody tr th:only-of-type {\n",
       "        vertical-align: middle;\n",
       "    }\n",
       "\n",
       "    .dataframe tbody tr th {\n",
       "        vertical-align: top;\n",
       "    }\n",
       "\n",
       "    .dataframe thead th {\n",
       "        text-align: right;\n",
       "    }\n",
       "</style>\n",
       "<table border=\"1\" class=\"dataframe\">\n",
       "  <thead>\n",
       "    <tr style=\"text-align: right;\">\n",
       "      <th></th>\n",
       "      <th>DateTime</th>\n",
       "      <th>X1</th>\n",
       "      <th>X2</th>\n",
       "      <th>X3</th>\n",
       "      <th>X4</th>\n",
       "      <th>Y</th>\n",
       "    </tr>\n",
       "  </thead>\n",
       "  <tbody>\n",
       "    <tr>\n",
       "      <td>0</td>\n",
       "      <td>2021/12/31 23:00</td>\n",
       "      <td>2.186333</td>\n",
       "      <td>13.76</td>\n",
       "      <td>0.0663</td>\n",
       "      <td>0.1547</td>\n",
       "      <td>5.211638e+05</td>\n",
       "    </tr>\n",
       "    <tr>\n",
       "      <td>1</td>\n",
       "      <td>2022/01/01 0:00</td>\n",
       "      <td>12.087667</td>\n",
       "      <td>84.86</td>\n",
       "      <td>0.4914</td>\n",
       "      <td>0.7410</td>\n",
       "      <td>2.494531e+06</td>\n",
       "    </tr>\n",
       "    <tr>\n",
       "      <td>2</td>\n",
       "      <td>2022/01/01 1:00</td>\n",
       "      <td>10.903667</td>\n",
       "      <td>87.28</td>\n",
       "      <td>0.4719</td>\n",
       "      <td>0.8775</td>\n",
       "      <td>2.117415e+06</td>\n",
       "    </tr>\n",
       "    <tr>\n",
       "      <td>3</td>\n",
       "      <td>2022/01/01 2:00</td>\n",
       "      <td>10.145333</td>\n",
       "      <td>88.58</td>\n",
       "      <td>0.4862</td>\n",
       "      <td>1.0231</td>\n",
       "      <td>1.873545e+06</td>\n",
       "    </tr>\n",
       "    <tr>\n",
       "      <td>4</td>\n",
       "      <td>2022/01/01 3:00</td>\n",
       "      <td>9.870000</td>\n",
       "      <td>86.06</td>\n",
       "      <td>0.4381</td>\n",
       "      <td>1.1336</td>\n",
       "      <td>1.766122e+06</td>\n",
       "    </tr>\n",
       "    <tr>\n",
       "      <td>...</td>\n",
       "      <td>...</td>\n",
       "      <td>...</td>\n",
       "      <td>...</td>\n",
       "      <td>...</td>\n",
       "      <td>...</td>\n",
       "      <td>...</td>\n",
       "    </tr>\n",
       "    <tr>\n",
       "      <td>6985</td>\n",
       "      <td>2022/10/19 0:00</td>\n",
       "      <td>35.403333</td>\n",
       "      <td>105.24</td>\n",
       "      <td>0.6188</td>\n",
       "      <td>0.8281</td>\n",
       "      <td>2.454735e+06</td>\n",
       "    </tr>\n",
       "    <tr>\n",
       "      <td>6986</td>\n",
       "      <td>2022/10/19 1:00</td>\n",
       "      <td>34.956667</td>\n",
       "      <td>105.42</td>\n",
       "      <td>0.4901</td>\n",
       "      <td>0.9243</td>\n",
       "      <td>2.323497e+06</td>\n",
       "    </tr>\n",
       "    <tr>\n",
       "      <td>6987</td>\n",
       "      <td>2022/10/19 2:00</td>\n",
       "      <td>34.866667</td>\n",
       "      <td>105.70</td>\n",
       "      <td>0.6019</td>\n",
       "      <td>0.8957</td>\n",
       "      <td>2.241004e+06</td>\n",
       "    </tr>\n",
       "    <tr>\n",
       "      <td>6988</td>\n",
       "      <td>2022/10/19 3:00</td>\n",
       "      <td>35.326667</td>\n",
       "      <td>105.88</td>\n",
       "      <td>0.6591</td>\n",
       "      <td>0.9802</td>\n",
       "      <td>2.206828e+06</td>\n",
       "    </tr>\n",
       "    <tr>\n",
       "      <td>6989</td>\n",
       "      <td>2022/10/19 4:00</td>\n",
       "      <td>17.580000</td>\n",
       "      <td>53.02</td>\n",
       "      <td>0.2951</td>\n",
       "      <td>0.5057</td>\n",
       "      <td>1.124037e+06</td>\n",
       "    </tr>\n",
       "  </tbody>\n",
       "</table>\n",
       "<p>6990 rows × 6 columns</p>\n",
       "</div>"
      ],
      "text/plain": [
       "              DateTime         X1      X2      X3      X4             Y\n",
       "0     2021/12/31 23:00   2.186333   13.76  0.0663  0.1547  5.211638e+05\n",
       "1      2022/01/01 0:00  12.087667   84.86  0.4914  0.7410  2.494531e+06\n",
       "2      2022/01/01 1:00  10.903667   87.28  0.4719  0.8775  2.117415e+06\n",
       "3      2022/01/01 2:00  10.145333   88.58  0.4862  1.0231  1.873545e+06\n",
       "4      2022/01/01 3:00   9.870000   86.06  0.4381  1.1336  1.766122e+06\n",
       "...                ...        ...     ...     ...     ...           ...\n",
       "6985   2022/10/19 0:00  35.403333  105.24  0.6188  0.8281  2.454735e+06\n",
       "6986   2022/10/19 1:00  34.956667  105.42  0.4901  0.9243  2.323497e+06\n",
       "6987   2022/10/19 2:00  34.866667  105.70  0.6019  0.8957  2.241004e+06\n",
       "6988   2022/10/19 3:00  35.326667  105.88  0.6591  0.9802  2.206828e+06\n",
       "6989   2022/10/19 4:00  17.580000   53.02  0.2951  0.5057  1.124037e+06\n",
       "\n",
       "[6990 rows x 6 columns]"
      ]
     },
     "execution_count": 18,
     "metadata": {},
     "output_type": "execute_result"
    }
   ],
   "source": [
    "train"
   ]
  },
  {
   "cell_type": "code",
   "execution_count": 19,
   "metadata": {},
   "outputs": [
    {
     "data": {
      "text/html": [
       "<div>\n",
       "<style scoped>\n",
       "    .dataframe tbody tr th:only-of-type {\n",
       "        vertical-align: middle;\n",
       "    }\n",
       "\n",
       "    .dataframe tbody tr th {\n",
       "        vertical-align: top;\n",
       "    }\n",
       "\n",
       "    .dataframe thead th {\n",
       "        text-align: right;\n",
       "    }\n",
       "</style>\n",
       "<table border=\"1\" class=\"dataframe\">\n",
       "  <thead>\n",
       "    <tr style=\"text-align: right;\">\n",
       "      <th></th>\n",
       "      <th>X1</th>\n",
       "      <th>X2</th>\n",
       "      <th>X3</th>\n",
       "      <th>X4</th>\n",
       "      <th>Y</th>\n",
       "    </tr>\n",
       "  </thead>\n",
       "  <tbody>\n",
       "    <tr>\n",
       "      <td>count</td>\n",
       "      <td>6990.000000</td>\n",
       "      <td>6990.000000</td>\n",
       "      <td>6990.000000</td>\n",
       "      <td>6990.000000</td>\n",
       "      <td>6.990000e+03</td>\n",
       "    </tr>\n",
       "    <tr>\n",
       "      <td>mean</td>\n",
       "      <td>39.112738</td>\n",
       "      <td>75.158078</td>\n",
       "      <td>1568.280922</td>\n",
       "      <td>637.443307</td>\n",
       "      <td>3.025360e+06</td>\n",
       "    </tr>\n",
       "    <tr>\n",
       "      <td>std</td>\n",
       "      <td>11.889252</td>\n",
       "      <td>19.197632</td>\n",
       "      <td>2153.392780</td>\n",
       "      <td>976.013185</td>\n",
       "      <td>7.261254e+05</td>\n",
       "    </tr>\n",
       "    <tr>\n",
       "      <td>min</td>\n",
       "      <td>2.186333</td>\n",
       "      <td>8.812000</td>\n",
       "      <td>0.066300</td>\n",
       "      <td>0.154700</td>\n",
       "      <td>5.211638e+05</td>\n",
       "    </tr>\n",
       "    <tr>\n",
       "      <td>25%</td>\n",
       "      <td>29.760000</td>\n",
       "      <td>62.940500</td>\n",
       "      <td>0.535600</td>\n",
       "      <td>0.980525</td>\n",
       "      <td>2.406700e+06</td>\n",
       "    </tr>\n",
       "    <tr>\n",
       "      <td>50%</td>\n",
       "      <td>39.815000</td>\n",
       "      <td>77.178000</td>\n",
       "      <td>162.314750</td>\n",
       "      <td>132.882750</td>\n",
       "      <td>3.033380e+06</td>\n",
       "    </tr>\n",
       "    <tr>\n",
       "      <td>75%</td>\n",
       "      <td>47.918333</td>\n",
       "      <td>91.520000</td>\n",
       "      <td>2888.047500</td>\n",
       "      <td>921.700000</td>\n",
       "      <td>3.532762e+06</td>\n",
       "    </tr>\n",
       "    <tr>\n",
       "      <td>max</td>\n",
       "      <td>79.543333</td>\n",
       "      <td>106.540000</td>\n",
       "      <td>7380.100000</td>\n",
       "      <td>6783.400000</td>\n",
       "      <td>4.921420e+06</td>\n",
       "    </tr>\n",
       "  </tbody>\n",
       "</table>\n",
       "</div>"
      ],
      "text/plain": [
       "                X1           X2           X3           X4             Y\n",
       "count  6990.000000  6990.000000  6990.000000  6990.000000  6.990000e+03\n",
       "mean     39.112738    75.158078  1568.280922   637.443307  3.025360e+06\n",
       "std      11.889252    19.197632  2153.392780   976.013185  7.261254e+05\n",
       "min       2.186333     8.812000     0.066300     0.154700  5.211638e+05\n",
       "25%      29.760000    62.940500     0.535600     0.980525  2.406700e+06\n",
       "50%      39.815000    77.178000   162.314750   132.882750  3.033380e+06\n",
       "75%      47.918333    91.520000  2888.047500   921.700000  3.532762e+06\n",
       "max      79.543333   106.540000  7380.100000  6783.400000  4.921420e+06"
      ]
     },
     "execution_count": 19,
     "metadata": {},
     "output_type": "execute_result"
    }
   ],
   "source": [
    "train.describe()"
   ]
  },
  {
   "cell_type": "markdown",
   "metadata": {},
   "source": [
    "### Data Prepartion"
   ]
  },
  {
   "cell_type": "code",
   "execution_count": 20,
   "metadata": {},
   "outputs": [],
   "source": [
    "# parsing to datetime\n",
    "train.DateTime = pd.to_datetime(train.DateTime)"
   ]
  },
  {
   "cell_type": "code",
   "execution_count": 21,
   "metadata": {},
   "outputs": [
    {
     "data": {
      "text/plain": [
       "DateTime    datetime64[ns]\n",
       "X1                 float64\n",
       "X2                 float64\n",
       "X3                 float64\n",
       "X4                 float64\n",
       "Y                  float64\n",
       "dtype: object"
      ]
     },
     "execution_count": 21,
     "metadata": {},
     "output_type": "execute_result"
    }
   ],
   "source": [
    "train.dtypes"
   ]
  },
  {
   "cell_type": "code",
   "execution_count": 22,
   "metadata": {},
   "outputs": [],
   "source": [
    "train.set_index(train['DateTime'],inplace=True)"
   ]
  },
  {
   "cell_type": "code",
   "execution_count": 23,
   "metadata": {},
   "outputs": [],
   "source": [
    "# DateTime changed into the index\n",
    "train_idx = train[['X1', 'X2', 'X3', 'X4', 'Y']]"
   ]
  },
  {
   "cell_type": "markdown",
   "metadata": {},
   "source": [
    "### Splitting Train and Test"
   ]
  },
  {
   "cell_type": "code",
   "execution_count": 24,
   "metadata": {},
   "outputs": [],
   "source": [
    "actual_arr = np.array(train_idx['Y'])\n",
    "train_idx = train_idx.drop('Y', axis=1)\n",
    "train_idx_arr = np.array(train_idx)"
   ]
  },
  {
   "cell_type": "code",
   "execution_count": 25,
   "metadata": {},
   "outputs": [],
   "source": [
    "X_train, X_test, y_train, y_test = train_test_split(train_idx_arr, actual_arr, test_size = 0.25, random_state = 0)"
   ]
  },
  {
   "cell_type": "code",
   "execution_count": 32,
   "metadata": {},
   "outputs": [
    {
     "name": "stdout",
     "output_type": "stream",
     "text": [
      "X_train Shape: (5242, 4)\n",
      "y_train Shape: (5242,)\n",
      "X_test Shape: (1748, 4)\n",
      "y_test Shape: (1748,)\n"
     ]
    }
   ],
   "source": [
    "print('X_train Shape:', X_train.shape)\n",
    "print('y_train Shape:', y_train.shape)\n",
    "print('X_test Shape:', X_test.shape)\n",
    "print('y_test Shape:', y_test.shape)"
   ]
  },
  {
   "cell_type": "markdown",
   "metadata": {},
   "source": [
    "### Random Forest"
   ]
  },
  {
   "cell_type": "code",
   "execution_count": 58,
   "metadata": {},
   "outputs": [
    {
     "data": {
      "text/plain": [
       "RandomForestRegressor(random_state=0)"
      ]
     },
     "execution_count": 58,
     "metadata": {},
     "output_type": "execute_result"
    }
   ],
   "source": [
    "rf = rfr(n_estimators = 100, random_state = 0)\n",
    "rf.fit(X_train, y_train)"
   ]
  },
  {
   "cell_type": "code",
   "execution_count": 59,
   "metadata": {},
   "outputs": [
    {
     "name": "stdout",
     "output_type": "stream",
     "text": [
      "Mean Squared Error: 326682412727.0612 degrees.\n",
      "Root Mean Squared Error: 571561.381416783\n",
      "R-squared: 0.3836882981647899\n"
     ]
    }
   ],
   "source": [
    "rf_pred = rf.predict(X_test)\n",
    "rf_mse = mean_squared_error(y_test, rf_pred)\n",
    "r2 = r2_score(y_test, rf_pred)\n",
    "\n",
    "print('Mean Squared Error:', rf_mse, 'degrees.')\n",
    "print('Root Mean Squared Error:', np.sqrt(rf_mse))\n",
    "print('R-squared:', r2)"
   ]
  },
  {
   "cell_type": "markdown",
   "metadata": {},
   "source": [
    "The MSE is quite high and the R-squared value is lower than 0.4 that it implies that there's low correlation."
   ]
  },
  {
   "cell_type": "code",
   "execution_count": 60,
   "metadata": {},
   "outputs": [
    {
     "data": {
      "text/plain": [
       "array([0.36835296, 0.20412902, 0.22192708, 0.20559094])"
      ]
     },
     "execution_count": 60,
     "metadata": {},
     "output_type": "execute_result"
    }
   ],
   "source": [
    "rf.feature_importances_"
   ]
  },
  {
   "cell_type": "code",
   "execution_count": 61,
   "metadata": {},
   "outputs": [
    {
     "data": {
      "text/plain": [
       "<BarContainer object of 4 artists>"
      ]
     },
     "execution_count": 61,
     "metadata": {},
     "output_type": "execute_result"
    },
    {
     "data": {
      "image/png": "[encoded data removed]",
      "text/plain": [
       "<Figure size 432x288 with 1 Axes>"
      ]
     },
     "metadata": {
      "needs_background": "light"
     },
     "output_type": "display_data"
    }
   ],
   "source": [
    "order = rf.feature_importances_.argsort()\n",
    "plt.barh(train_idx.columns[order], rf.feature_importances_[order])"
   ]
  },
  {
   "cell_type": "markdown",
   "metadata": {},
   "source": [
    "### Only with the two most important inputs"
   ]
  },
  {
   "cell_type": "code",
   "execution_count": 70,
   "metadata": {},
   "outputs": [],
   "source": [
    "Xs = list(train_idx.columns)\n",
    "\n",
    "rf_better = rfr(n_estimators = 500, random_state = 0)\n",
    "impt = [Xs.index('X1'), Xs.index('X3')]\n",
    "train_important = X_train[:, impt]\n",
    "test_important = X_test[:, impt]"
   ]
  },
  {
   "cell_type": "code",
   "execution_count": 71,
   "metadata": {},
   "outputs": [
    {
     "data": {
      "text/plain": [
       "RandomForestRegressor(n_estimators=500, random_state=0)"
      ]
     },
     "execution_count": 71,
     "metadata": {},
     "output_type": "execute_result"
    }
   ],
   "source": [
    "rf_better.fit(train_important, y_train)"
   ]
  },
  {
   "cell_type": "code",
   "execution_count": 72,
   "metadata": {},
   "outputs": [
    {
     "name": "stdout",
     "output_type": "stream",
     "text": [
      "Mean Squared Error: 428797012378.1905 degrees.\n",
      "Root Mean Squared Error: 654825.9405202199\n",
      "R-squared: 0.19104118818464677\n"
     ]
    }
   ],
   "source": [
    "pred_better = rf_better.predict(test_important)\n",
    "\n",
    "rf_mse = mean_squared_error(y_test, pred_better)\n",
    "r2 = r2_score(y_test, pred_better)\n",
    "\n",
    "print('Mean Squared Error:', rf_mse, 'degrees.')\n",
    "print('Root Mean Squared Error:', np.sqrt(rf_mse))\n",
    "print('R-squared:', r2)"
   ]
  },
  {
   "cell_type": "markdown",
   "metadata": {},
   "source": [
    "### Use CV to find the best parameters"
   ]
  },
  {
   "cell_type": "code",
   "execution_count": null,
   "metadata": {},
   "outputs": [],
   "source": [
    "rf_random = RandomizedSearchCV(estimator = rf, param_distributions = random_grid, n_iter = 100, cv = 3, verbose=2, random_state=42, n_jobs = -1)\n",
    "\n",
    "rf_random.fit(train_features, train_labels)"
   ]
  }
 ],
 "metadata": {
  "kernelspec": {
   "display_name": "Python 3",
   "language": "python",
   "name": "python3"
  },
  "language_info": {
   "codemirror_mode": {
    "name": "ipython",
    "version": 3
   },
   "file_extension": ".py",
   "mimetype": "text/x-python",
   "name": "python",
   "nbconvert_exporter": "python",
   "pygments_lexer": "ipython3",
   "version": "3.7.4"
  }
 },
 "nbformat": 4,
 "nbformat_minor": 4
}
